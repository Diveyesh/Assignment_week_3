{
  "nbformat": 4,
  "nbformat_minor": 0,
  "metadata": {
    "colab": {
      "provenance": []
    },
    "kernelspec": {
      "name": "python3",
      "display_name": "Python 3"
    },
    "language_info": {
      "name": "python"
    }
  },
  "cells": [
    {
      "cell_type": "markdown",
      "source": [
        "##Submitted by - Diveyesh"
      ],
      "metadata": {
        "id": "WSmLjCT3EUO_"
      }
    },
    {
      "cell_type": "markdown",
      "source": [
        "#Question - 1\n"
      ],
      "metadata": {
        "id": "ZtCibTLxEdxy"
      }
    },
    {
      "cell_type": "code",
      "execution_count": null,
      "metadata": {
        "id": "v_zCBOhoBxBU"
      },
      "outputs": [],
      "source": [
        "\n",
        "# def is keyword which is used to create a function."
      ]
    },
    {
      "cell_type": "code",
      "source": [
        "def odd_number():\n",
        "  list_1 = []\n",
        "  for x in range(1,26):\n",
        "    if x%2 != 0:\n",
        "      list_1.append(x)\n",
        "  return list_1\n"
      ],
      "metadata": {
        "id": "DhjXYqDpETEv"
      },
      "execution_count": null,
      "outputs": []
    },
    {
      "cell_type": "code",
      "source": [
        "odd_number()"
      ],
      "metadata": {
        "colab": {
          "base_uri": "https://localhost:8080/"
        },
        "id": "D2fFzmepETGx",
        "outputId": "22aba475-500e-4e04-c7f6-2390f2511689"
      },
      "execution_count": null,
      "outputs": [
        {
          "output_type": "execute_result",
          "data": {
            "text/plain": [
              "[1, 3, 5, 7, 9, 11, 13, 15, 17, 19, 21, 23, 25]"
            ]
          },
          "metadata": {},
          "execution_count": 4
        }
      ]
    },
    {
      "cell_type": "markdown",
      "source": [
        "# Question - 2"
      ],
      "metadata": {
        "id": "hdYxx3yCF4lG"
      }
    },
    {
      "cell_type": "code",
      "source": [
        "# *args is used to pass multiple non-keyword arguements and **kwargs is used to pass multiple keyword arguements. "
      ],
      "metadata": {
        "id": "kPb9eR5WETJe"
      },
      "execution_count": null,
      "outputs": []
    },
    {
      "cell_type": "code",
      "source": [
        "def test(*args,**kwargs):\n",
        "  return args , kwargs"
      ],
      "metadata": {
        "id": "mdbGrZRNETLt"
      },
      "execution_count": null,
      "outputs": []
    },
    {
      "cell_type": "code",
      "source": [
        "test(\"divyesh\",1,2,2.0,movie='james bond',actor='danial craig')"
      ],
      "metadata": {
        "colab": {
          "base_uri": "https://localhost:8080/"
        },
        "id": "BF0Uuq8nETOR",
        "outputId": "ada9824f-1f4e-41b1-ea1f-076345a49e94"
      },
      "execution_count": null,
      "outputs": [
        {
          "output_type": "execute_result",
          "data": {
            "text/plain": [
              "(('divyesh', 1, 2, 2.0), {'movie': 'james bond', 'actor': 'danial craig'})"
            ]
          },
          "metadata": {},
          "execution_count": 18
        }
      ]
    },
    {
      "cell_type": "markdown",
      "source": [
        "#Question - 3"
      ],
      "metadata": {
        "id": "KF3kYTtwLGnu"
      }
    },
    {
      "cell_type": "code",
      "source": [
        "#An iterator in Python is an object that is used to iterate over iterable objects like lists, tuples, dicts, and sets. \n",
        "#The Python iterators object is initialized using the iter() method. It uses the next() method for iteration"
      ],
      "metadata": {
        "id": "5UZstVNZETQx"
      },
      "execution_count": null,
      "outputs": []
    },
    {
      "cell_type": "code",
      "source": [
        "list_1 = [2, 4, 6, 8, 10, 12, 14, 16, 18, 20]"
      ],
      "metadata": {
        "id": "NX1B_84FETTW"
      },
      "execution_count": null,
      "outputs": []
    },
    {
      "cell_type": "code",
      "source": [
        "iterator = iter(list_1)"
      ],
      "metadata": {
        "id": "ocC2YHCkETWA"
      },
      "execution_count": null,
      "outputs": []
    },
    {
      "cell_type": "code",
      "source": [
        "print(next(iterator))"
      ],
      "metadata": {
        "colab": {
          "base_uri": "https://localhost:8080/"
        },
        "id": "NIpj67BUETYh",
        "outputId": "3c3c8701-085b-4ada-cd6d-9fde4c31f420"
      },
      "execution_count": null,
      "outputs": [
        {
          "output_type": "stream",
          "name": "stdout",
          "text": [
            "2\n"
          ]
        }
      ]
    },
    {
      "cell_type": "code",
      "source": [
        "print(next(iterator))"
      ],
      "metadata": {
        "colab": {
          "base_uri": "https://localhost:8080/"
        },
        "id": "peuRenjKETa3",
        "outputId": "0af1d7ad-2320-4b7d-ffcc-99c85d577e77"
      },
      "execution_count": null,
      "outputs": [
        {
          "output_type": "stream",
          "name": "stdout",
          "text": [
            "4\n"
          ]
        }
      ]
    },
    {
      "cell_type": "code",
      "source": [
        "print(next(iterator))"
      ],
      "metadata": {
        "colab": {
          "base_uri": "https://localhost:8080/"
        },
        "id": "NiGqXuEyETdk",
        "outputId": "1d5c3139-30f0-44a7-894d-ad6c75cc1114"
      },
      "execution_count": null,
      "outputs": [
        {
          "output_type": "stream",
          "name": "stdout",
          "text": [
            "6\n"
          ]
        }
      ]
    },
    {
      "cell_type": "code",
      "source": [
        "print(next(iterator))"
      ],
      "metadata": {
        "colab": {
          "base_uri": "https://localhost:8080/"
        },
        "id": "r0gUFVVoETgE",
        "outputId": "25e1b07c-f9b8-4a5f-a8cd-b4f863266bb5"
      },
      "execution_count": null,
      "outputs": [
        {
          "output_type": "stream",
          "name": "stdout",
          "text": [
            "8\n"
          ]
        }
      ]
    },
    {
      "cell_type": "code",
      "source": [
        "print(next(iterator))"
      ],
      "metadata": {
        "colab": {
          "base_uri": "https://localhost:8080/"
        },
        "id": "f3fF9P4AETi9",
        "outputId": "7bc2ac92-39e0-4220-a88e-2d6cba188bdb"
      },
      "execution_count": null,
      "outputs": [
        {
          "output_type": "stream",
          "name": "stdout",
          "text": [
            "10\n"
          ]
        }
      ]
    },
    {
      "cell_type": "markdown",
      "source": [
        "#Question -4\n"
      ],
      "metadata": {
        "id": "MCrqnlIiSPVG"
      }
    },
    {
      "cell_type": "code",
      "source": [
        "# A generator is a special type of function which does not return a single value, \n",
        "#instead, it returns an iterator object with a sequence of values. \n",
        "#In a generator function, a yield statement is used rather than a return statement."
      ],
      "metadata": {
        "id": "Z2RxsRMnSJ4R"
      },
      "execution_count": null,
      "outputs": []
    },
    {
      "cell_type": "code",
      "source": [
        "# We should use yield when we want to iterate over a sequence, but don't want to store the entire sequence in memory."
      ],
      "metadata": {
        "id": "PFHHBk4RSOp2"
      },
      "execution_count": null,
      "outputs": []
    },
    {
      "cell_type": "code",
      "source": [
        "# range() is an exaple of generator function."
      ],
      "metadata": {
        "id": "P1O2CZvKSOmT"
      },
      "execution_count": null,
      "outputs": []
    },
    {
      "cell_type": "markdown",
      "source": [
        "#Queston - 5"
      ],
      "metadata": {
        "id": "4k8H04DiVrES"
      }
    },
    {
      "cell_type": "code",
      "source": [
        "def prime_number():\n",
        "  number = 2\n",
        "  while number < 1000:\n",
        "    is_prime = True\n",
        "    for i in range(2,number):\n",
        "      if number%i == 0:\n",
        "        is_prime= False\n",
        "        break\n",
        "    if is_prime:\n",
        "      yield number\n",
        "    number += 1\n",
        "\n",
        "\n",
        "\n"
      ],
      "metadata": {
        "id": "NGiHAz43SOj1"
      },
      "execution_count": 45,
      "outputs": []
    },
    {
      "cell_type": "code",
      "source": [
        "prime_generator = prime_number()"
      ],
      "metadata": {
        "id": "KTNxlFA6ghuQ"
      },
      "execution_count": 46,
      "outputs": []
    },
    {
      "cell_type": "code",
      "source": [
        "for i in range(20):\n",
        "  x =next(prime_generator)\n",
        "  print(x)"
      ],
      "metadata": {
        "id": "Py2kJ6PqSOhu",
        "colab": {
          "base_uri": "https://localhost:8080/"
        },
        "outputId": "16a7b757-8b6b-4cfe-d456-e6c5b245aab9"
      },
      "execution_count": 47,
      "outputs": [
        {
          "output_type": "stream",
          "name": "stdout",
          "text": [
            "2\n",
            "3\n",
            "5\n",
            "7\n",
            "11\n",
            "13\n",
            "17\n",
            "19\n",
            "23\n",
            "29\n",
            "31\n",
            "37\n",
            "41\n",
            "43\n",
            "47\n",
            "53\n",
            "59\n",
            "61\n",
            "67\n",
            "71\n"
          ]
        }
      ]
    }
  ]
}